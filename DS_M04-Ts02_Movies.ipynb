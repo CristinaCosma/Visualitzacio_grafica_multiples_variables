{
 "cells": [
  {
   "cell_type": "markdown",
   "id": "976f06ae-47d4-41cd-8ce2-29910a69b02b",
   "metadata": {
    "tags": []
   },
   "source": [
    "#### *Cristina Cosma*\n",
    "\n",
    "# **DATA SCIENCE**\n",
    "\n",
    "## **Sprint 4 : Utilitzar les biblioteques de visualització de dades Matplotlib o Seaborn**\n",
    "\n",
    "## Tasca M4 T02 - Visualització gràfica de múltiples variables.\n",
    "\n",
    "* Visualització gràfica de Multiples variables.\n",
    "* Representació de Categorical Data.\n",
    "* Ús dels Box-Plots.\n",
    "* Ús dels regex\n",
    "\n",
    "___________\n",
    "Lliurament:Enviar l'URL a un repositori anomenat *Visualització gràfica de Multiples variables* que contingui la solució. S'ha d'entregar cada exercici en un mateix fitxer i en un repositori.\n",
    "\n",
    "URL : **https://github.com/CristinaCosma/Visualitzacio_grafica_multiples_variables** \n",
    "___________"
   ]
  },
  {
   "cell_type": "markdown",
   "id": "f3c50d3f-7306-48a6-b66c-a4bdbce0fe31",
   "metadata": {
    "tags": []
   },
   "source": [
    "## EXERCICI 1 : \n",
    "Realitza la pràctica del notebook a GitHub **\"03 EXAMINING DATA\"** (fes una còpia i executa els comandaments amb el mateix dataset county.txt). Aquest exercici consisteix a observar les diferents possibilitats que ofereixen les diferents llibreries de visualització gràfica."
   ]
  },
  {
   "cell_type": "markdown",
   "id": "c23575a3-2d24-44ad-88d2-a251e279f0f6",
   "metadata": {},
   "source": [
    "* GitHub \"03 EXAMINING DATA\" : \n",
    "    https://github.com/BIDDL3/Examining-Data/blob/main/03%20EXAMINING%20DATA.ipynb\n",
    "* La práctica s'ha fet i estàdisponible dins el mateix repositori que els exercicis 2 i 3"
   ]
  },
  {
   "cell_type": "markdown",
   "id": "715438e5-395d-4b98-ac1e-4b1e69fdcb70",
   "metadata": {
    "tags": []
   },
   "source": [
    "## EXERCICI 2 : \n",
    "Fes les tasques de preprocessat  i adequació del Dataset que disposem en el repositori de GitHub **PRE-PROCESSING-DATA** amb l'objectiu de preparar-lo i treballar-lo com a dataframe per a extreure'n informació.\n",
    "\n",
    "El **resultat final** ha de ser un dataframe amb les variables de **nom de la pel·lícula, any i genere**. També és important quedar-se amb **un sol gènere per a cada pel·lícula!**"
   ]
  },
  {
   "cell_type": "markdown",
   "id": "28b235d7-4d07-4a4a-8e1e-8951f9ae10c0",
   "metadata": {},
   "source": [
    "* Importem els fitxers del GitHub \"PRE-PROCESSING-DATA\" : https://github.com/BIDDL3/PRE-PROCESSING-DATA/blob/main/movies.dat\n",
    "* Per importar-lo i trballar, primer convertim el fitxer original segons aquest exemple : https://support.talexio.com/hc/en-us/articles/4410548257298-How-to-convert-dat-files-to-csv\n",
    "* Obrim el fitxer **movies.dat -> movies.txt -> movies.csv** obrant-lo amb l'editor de text i salvant-lo com a .csv\n",
    "* Importem les llibreries que poden ser útils i el propi fitxer *movies.csv*"
   ]
  },
  {
   "cell_type": "markdown",
   "id": "2977b7b7-fe6d-468b-a8d0-88c6e6c64bb9",
   "metadata": {},
   "source": [
    "    movie.dat\n",
    "\n",
    "    1::Toy Story (1995)::Animation|Children's|Comedy\n",
    "    2::Jumanji (1995)::Adventure|Children's|Fantasy\n",
    "    3::Grumpier Old Men (1995)::Comedy|Romance\n",
    "    4::Waiting to Exhale (1995)::Comedy|Drama\n",
    "    5::Father of the Bride Part II (1995)::Comedy\n",
    "    6::Heat (1995)::Action|Crime|Thriller\n",
    "    7::Sabrina (1995)::Comedy|Romance\n",
    "    8::Tom and Huck (1995)::Adventure|Children's\n",
    "    9::Sudden Death (1995)::Action\n",
    "    10::GoldenEye (1995)::Action|Adventure|Thriller\n"
   ]
  },
  {
   "cell_type": "markdown",
   "id": "aced5146-c2e2-4335-b9e9-c1f13746bf51",
   "metadata": {},
   "source": [
    "**Preparació i neteja de les dades :**\n",
    "* Des del editor de text i des del Excel, observem que el dataset no té assignat cap nom a les columnes \n",
    "* El fitxer *movies.dat* original té una sola columna i que no té atribuït cap nom. \n",
    "* Les dades son molt compactades i s'han de reorganitzar per poder-les analitzar estadísticament\n",
    "* Per això des de la importació i la primera lectura, fem servir comandes per separar les paraules i estructurar-les per columnes."
   ]
  },
  {
   "cell_type": "code",
   "execution_count": 13,
   "id": "09e5705d-ad24-4319-abee-59585fd2ad59",
   "metadata": {
    "tags": []
   },
   "outputs": [],
   "source": [
    "import numpy as np\n",
    "import pandas as pd\n",
    "import re # regex"
   ]
  },
  {
   "cell_type": "code",
   "execution_count": 31,
   "id": "b8db7a6c-770c-44ff-a1d3-ad596d456493",
   "metadata": {},
   "outputs": [],
   "source": [
    "movies_raw= pd.read_csv('C:/Users/Buba/Documents/CURSOS-PROGRAMACION/IT-Academy/IT-DATA-SCIENCE/DS-Sprint4_B_data-processing/PRE-PROCESSING-DATA_Cristina_DS/movies.csv', \n",
    "                      sep = \"::\", encoding_errors= 'replace', engine='python', names=['Id','Name_Year', 'Genre'])\n",
    "\n",
    "# Alternativa : movies_raw=pd.read_csv('movies.csv')"
   ]
  },
  {
   "cell_type": "markdown",
   "id": "0a4ca681-8b94-4cb7-9a89-c451a062737d",
   "metadata": {},
   "source": [
    "* Veiem l'estructura del dataframe i les columnes adjudicades manualment\n",
    "* L'Any està junt amb el nom i el gènere conté entre 1 i múltiples entrades "
   ]
  },
  {
   "cell_type": "code",
   "execution_count": 17,
   "id": "4161d36c-c785-477a-b58f-e3489dfb8bd9",
   "metadata": {},
   "outputs": [
    {
     "data": {
      "text/html": [
       "<div>\n",
       "<style scoped>\n",
       "    .dataframe tbody tr th:only-of-type {\n",
       "        vertical-align: middle;\n",
       "    }\n",
       "\n",
       "    .dataframe tbody tr th {\n",
       "        vertical-align: top;\n",
       "    }\n",
       "\n",
       "    .dataframe thead th {\n",
       "        text-align: right;\n",
       "    }\n",
       "</style>\n",
       "<table border=\"1\" class=\"dataframe\">\n",
       "  <thead>\n",
       "    <tr style=\"text-align: right;\">\n",
       "      <th></th>\n",
       "      <th>Id</th>\n",
       "      <th>Name_Year</th>\n",
       "      <th>Genre</th>\n",
       "    </tr>\n",
       "  </thead>\n",
       "  <tbody>\n",
       "  </tbody>\n",
       "</table>\n",
       "</div>"
      ],
      "text/plain": [
       "Empty DataFrame\n",
       "Columns: [Id, Name_Year, Genre]\n",
       "Index: []"
      ]
     },
     "execution_count": 17,
     "metadata": {},
     "output_type": "execute_result"
    }
   ],
   "source": [
    "movies_raw[:0]"
   ]
  },
  {
   "cell_type": "code",
   "execution_count": 15,
   "id": "7894f0b2-a024-4dd7-86ac-beb7a059a0ad",
   "metadata": {},
   "outputs": [
    {
     "name": "stdout",
     "output_type": "stream",
     "text": [
      "<class 'pandas.core.frame.DataFrame'>\n",
      "RangeIndex: 3883 entries, 0 to 3882\n",
      "Data columns (total 3 columns):\n",
      " #   Column     Non-Null Count  Dtype \n",
      "---  ------     --------------  ----- \n",
      " 0   Id         3883 non-null   int64 \n",
      " 1   Name_Year  3883 non-null   object\n",
      " 2   Genre      3883 non-null   object\n",
      "dtypes: int64(1), object(2)\n",
      "memory usage: 91.1+ KB\n"
     ]
    }
   ],
   "source": [
    "movies_raw.info()"
   ]
  },
  {
   "cell_type": "code",
   "execution_count": 32,
   "id": "5044b2a6-4d67-42b5-bac7-b75b6b5c3576",
   "metadata": {},
   "outputs": [
    {
     "data": {
      "text/html": [
       "<div>\n",
       "<style scoped>\n",
       "    .dataframe tbody tr th:only-of-type {\n",
       "        vertical-align: middle;\n",
       "    }\n",
       "\n",
       "    .dataframe tbody tr th {\n",
       "        vertical-align: top;\n",
       "    }\n",
       "\n",
       "    .dataframe thead th {\n",
       "        text-align: right;\n",
       "    }\n",
       "</style>\n",
       "<table border=\"1\" class=\"dataframe\">\n",
       "  <thead>\n",
       "    <tr style=\"text-align: right;\">\n",
       "      <th></th>\n",
       "      <th>Id</th>\n",
       "      <th>Name_Year</th>\n",
       "      <th>Genre</th>\n",
       "    </tr>\n",
       "  </thead>\n",
       "  <tbody>\n",
       "    <tr>\n",
       "      <th>0</th>\n",
       "      <td>1</td>\n",
       "      <td>Toy Story (1995)</td>\n",
       "      <td>Animation|Children's|Comedy</td>\n",
       "    </tr>\n",
       "    <tr>\n",
       "      <th>1</th>\n",
       "      <td>2</td>\n",
       "      <td>Jumanji (1995)</td>\n",
       "      <td>Adventure|Children's|Fantasy</td>\n",
       "    </tr>\n",
       "    <tr>\n",
       "      <th>2</th>\n",
       "      <td>3</td>\n",
       "      <td>Grumpier Old Men (1995)</td>\n",
       "      <td>Comedy|Romance</td>\n",
       "    </tr>\n",
       "    <tr>\n",
       "      <th>3</th>\n",
       "      <td>4</td>\n",
       "      <td>Waiting to Exhale (1995)</td>\n",
       "      <td>Comedy|Drama</td>\n",
       "    </tr>\n",
       "    <tr>\n",
       "      <th>4</th>\n",
       "      <td>5</td>\n",
       "      <td>Father of the Bride Part II (1995)</td>\n",
       "      <td>Comedy</td>\n",
       "    </tr>\n",
       "    <tr>\n",
       "      <th>...</th>\n",
       "      <td>...</td>\n",
       "      <td>...</td>\n",
       "      <td>...</td>\n",
       "    </tr>\n",
       "    <tr>\n",
       "      <th>3878</th>\n",
       "      <td>3948</td>\n",
       "      <td>Meet the Parents (2000)</td>\n",
       "      <td>Comedy</td>\n",
       "    </tr>\n",
       "    <tr>\n",
       "      <th>3879</th>\n",
       "      <td>3949</td>\n",
       "      <td>Requiem for a Dream (2000)</td>\n",
       "      <td>Drama</td>\n",
       "    </tr>\n",
       "    <tr>\n",
       "      <th>3880</th>\n",
       "      <td>3950</td>\n",
       "      <td>Tigerland (2000)</td>\n",
       "      <td>Drama</td>\n",
       "    </tr>\n",
       "    <tr>\n",
       "      <th>3881</th>\n",
       "      <td>3951</td>\n",
       "      <td>Two Family House (2000)</td>\n",
       "      <td>Drama</td>\n",
       "    </tr>\n",
       "    <tr>\n",
       "      <th>3882</th>\n",
       "      <td>3952</td>\n",
       "      <td>Contender, The (2000)</td>\n",
       "      <td>Drama|Thriller</td>\n",
       "    </tr>\n",
       "  </tbody>\n",
       "</table>\n",
       "<p>3883 rows × 3 columns</p>\n",
       "</div>"
      ],
      "text/plain": [
       "        Id                           Name_Year                         Genre\n",
       "0        1                    Toy Story (1995)   Animation|Children's|Comedy\n",
       "1        2                      Jumanji (1995)  Adventure|Children's|Fantasy\n",
       "2        3             Grumpier Old Men (1995)                Comedy|Romance\n",
       "3        4            Waiting to Exhale (1995)                  Comedy|Drama\n",
       "4        5  Father of the Bride Part II (1995)                        Comedy\n",
       "...    ...                                 ...                           ...\n",
       "3878  3948             Meet the Parents (2000)                        Comedy\n",
       "3879  3949          Requiem for a Dream (2000)                         Drama\n",
       "3880  3950                    Tigerland (2000)                         Drama\n",
       "3881  3951             Two Family House (2000)                         Drama\n",
       "3882  3952               Contender, The (2000)                Drama|Thriller\n",
       "\n",
       "[3883 rows x 3 columns]"
      ]
     },
     "execution_count": 32,
     "metadata": {},
     "output_type": "execute_result"
    }
   ],
   "source": [
    "# movies_raw.csv \n",
    "movies_raw"
   ]
  },
  {
   "cell_type": "code",
   "execution_count": 90,
   "id": "f5fd67e9-f695-4a36-a8c3-ed5ac84887b7",
   "metadata": {},
   "outputs": [
    {
     "data": {
      "text/plain": [
       "18"
      ]
     },
     "execution_count": 90,
     "metadata": {},
     "output_type": "execute_result"
    }
   ],
   "source": [
    "movies_raw['Genre'].nunique()"
   ]
  },
  {
   "cell_type": "markdown",
   "id": "c6c980e3-1d2f-4625-8184-a77b08c2609c",
   "metadata": {},
   "source": [
    "**Neteja i reestructuració**:\n",
    "* Neteja i separació de la columna de l'any dels films (\"Name_Year\" i posteriorment, \"Year\")\n",
    "* L'Any està junt amb el nom i el gènere conté entre 1 i múltiples entrades "
   ]
  },
  {
   "cell_type": "code",
   "execution_count": 33,
   "id": "b19d7899-a7ce-40c3-8d0c-caa8d98bbf8b",
   "metadata": {
    "tags": []
   },
   "outputs": [
    {
     "name": "stdout",
     "output_type": "stream",
     "text": [
      "0       (1995)\n",
      "1       (1995)\n",
      "2       (1995)\n",
      "3       (1995)\n",
      "4       (1995)\n",
      "         ...  \n",
      "3878    (2000)\n",
      "3879    (2000)\n",
      "3880    (2000)\n",
      "3881    (2000)\n",
      "3882    (2000)\n",
      "Name: Name_Year, Length: 3883, dtype: object\n"
     ]
    }
   ],
   "source": [
    "print(movies_raw['Name_Year'].str[-6:]) # ver 6 digitos desde la cola"
   ]
  },
  {
   "cell_type": "code",
   "execution_count": 34,
   "id": "da258e21-4378-424b-8c82-44a1bf8b5d04",
   "metadata": {},
   "outputs": [
    {
     "name": "stdout",
     "output_type": "stream",
     "text": [
      "0       1995\n",
      "1       1995\n",
      "2       1995\n",
      "3       1995\n",
      "4       1995\n",
      "        ... \n",
      "3878    2000\n",
      "3879    2000\n",
      "3880    2000\n",
      "3881    2000\n",
      "3882    2000\n",
      "Name: Name_Year, Length: 3883, dtype: object\n"
     ]
    }
   ],
   "source": [
    "# separem l'any del nom\n",
    "print(movies_raw['Name_Year'].str[-5:-1]) # start:stop desde la cola omitiendo los parántesis"
   ]
  },
  {
   "cell_type": "code",
   "execution_count": 64,
   "id": "b32bb5da-d861-495b-adfd-1c251e0ac014",
   "metadata": {
    "tags": []
   },
   "outputs": [
    {
     "data": {
      "text/html": [
       "<div>\n",
       "<style scoped>\n",
       "    .dataframe tbody tr th:only-of-type {\n",
       "        vertical-align: middle;\n",
       "    }\n",
       "\n",
       "    .dataframe tbody tr th {\n",
       "        vertical-align: top;\n",
       "    }\n",
       "\n",
       "    .dataframe thead th {\n",
       "        text-align: right;\n",
       "    }\n",
       "</style>\n",
       "<table border=\"1\" class=\"dataframe\">\n",
       "  <thead>\n",
       "    <tr style=\"text-align: right;\">\n",
       "      <th></th>\n",
       "      <th>Id</th>\n",
       "      <th>Name_Year</th>\n",
       "      <th>Genre</th>\n",
       "      <th>Year</th>\n",
       "      <th>Name</th>\n",
       "      <th>Genre2</th>\n",
       "    </tr>\n",
       "  </thead>\n",
       "  <tbody>\n",
       "    <tr>\n",
       "      <th>0</th>\n",
       "      <td>1</td>\n",
       "      <td>Toy Story (1995)</td>\n",
       "      <td>Animation|Children's|Comedy</td>\n",
       "      <td>1995</td>\n",
       "      <td>Toy Story</td>\n",
       "      <td>Animation</td>\n",
       "    </tr>\n",
       "    <tr>\n",
       "      <th>1</th>\n",
       "      <td>2</td>\n",
       "      <td>Jumanji (1995)</td>\n",
       "      <td>Adventure|Children's|Fantasy</td>\n",
       "      <td>1995</td>\n",
       "      <td>Jumanji</td>\n",
       "      <td>Adventure</td>\n",
       "    </tr>\n",
       "    <tr>\n",
       "      <th>2</th>\n",
       "      <td>3</td>\n",
       "      <td>Grumpier Old Men (1995)</td>\n",
       "      <td>Comedy|Romance</td>\n",
       "      <td>1995</td>\n",
       "      <td>Grumpier Old Men</td>\n",
       "      <td>Comedy</td>\n",
       "    </tr>\n",
       "    <tr>\n",
       "      <th>3</th>\n",
       "      <td>4</td>\n",
       "      <td>Waiting to Exhale (1995)</td>\n",
       "      <td>Comedy|Drama</td>\n",
       "      <td>1995</td>\n",
       "      <td>Waiting to Exhale</td>\n",
       "      <td>Comedy</td>\n",
       "    </tr>\n",
       "    <tr>\n",
       "      <th>4</th>\n",
       "      <td>5</td>\n",
       "      <td>Father of the Bride Part II (1995)</td>\n",
       "      <td>Comedy</td>\n",
       "      <td>1995</td>\n",
       "      <td>Father of the Bride Part II</td>\n",
       "      <td>Comedy</td>\n",
       "    </tr>\n",
       "  </tbody>\n",
       "</table>\n",
       "</div>"
      ],
      "text/plain": [
       "   Id                           Name_Year                         Genre  Year  \\\n",
       "0   1                    Toy Story (1995)   Animation|Children's|Comedy  1995   \n",
       "1   2                      Jumanji (1995)  Adventure|Children's|Fantasy  1995   \n",
       "2   3             Grumpier Old Men (1995)                Comedy|Romance  1995   \n",
       "3   4            Waiting to Exhale (1995)                  Comedy|Drama  1995   \n",
       "4   5  Father of the Bride Part II (1995)                        Comedy  1995   \n",
       "\n",
       "                          Name     Genre2  \n",
       "0                    Toy Story  Animation  \n",
       "1                      Jumanji  Adventure  \n",
       "2             Grumpier Old Men     Comedy  \n",
       "3            Waiting to Exhale     Comedy  \n",
       "4  Father of the Bride Part II     Comedy  "
      ]
     },
     "execution_count": 64,
     "metadata": {},
     "output_type": "execute_result"
    }
   ],
   "source": [
    "movies_raw['Year']=movies_raw['Name_Year'].str[-5:-1]\n",
    "movies_raw.head()"
   ]
  },
  {
   "cell_type": "code",
   "execution_count": 65,
   "id": "31e15db3-d7de-4e8b-86e2-e315caf530e5",
   "metadata": {
    "tags": []
   },
   "outputs": [
    {
     "data": {
      "text/plain": [
       "0                         Toy Story\n",
       "1                           Jumanji\n",
       "2                  Grumpier Old Men\n",
       "3                 Waiting to Exhale\n",
       "4       Father of the Bride Part II\n",
       "                   ...             \n",
       "3878               Meet the Parents\n",
       "3879            Requiem for a Dream\n",
       "3880                      Tigerland\n",
       "3881               Two Family House\n",
       "3882                 Contender, The\n",
       "Name: Name_Year, Length: 3883, dtype: object"
      ]
     },
     "execution_count": 65,
     "metadata": {},
     "output_type": "execute_result"
    }
   ],
   "source": [
    "print(movies_raw['Name_Year'].str[:-7])"
   ]
  },
  {
   "cell_type": "code",
   "execution_count": 61,
   "id": "6a416142-6ec1-44db-8f92-8f040a9f961e",
   "metadata": {},
   "outputs": [],
   "source": [
    "movies_raw['Name'] = movies_raw['Name_Year'].str[:-7]"
   ]
  },
  {
   "cell_type": "markdown",
   "id": "ea9512b7-e416-4fc9-9895-ea94b4e13397",
   "metadata": {},
   "source": [
    "* Convertim la variable \"Year\" en una numèrica i que no tingui molt de pès\n",
    "* Fem ús d'una \"regex function\" lleugera per truncar les dades de la columna \"Genre\" \n",
    "* Ens quedem només amb la primera paraula del tipus de peli \"Genre\" "
   ]
  },
  {
   "cell_type": "code",
   "execution_count": 69,
   "id": "3d29d905-6b64-4ce8-8385-e9da1bcd8fd8",
   "metadata": {},
   "outputs": [],
   "source": [
    "movies_raw['Year']=movies_raw['Year'].astype('int32')\n",
    "\n",
    "# Alternativament : => movies_raw['Year'].apply(pd.to_numeric)"
   ]
  },
  {
   "cell_type": "code",
   "execution_count": 70,
   "id": "c7093e8a-3b26-4faf-8ef0-c201e09c7801",
   "metadata": {},
   "outputs": [],
   "source": [
    "movies_raw['Genre'] = movies_raw['Genre'].str.split(\"|\", 1).str[0]"
   ]
  },
  {
   "cell_type": "code",
   "execution_count": 73,
   "id": "fecc6186-aa9b-4c2a-99da-b315a6782f21",
   "metadata": {},
   "outputs": [
    {
     "data": {
      "text/html": [
       "<div>\n",
       "<style scoped>\n",
       "    .dataframe tbody tr th:only-of-type {\n",
       "        vertical-align: middle;\n",
       "    }\n",
       "\n",
       "    .dataframe tbody tr th {\n",
       "        vertical-align: top;\n",
       "    }\n",
       "\n",
       "    .dataframe thead th {\n",
       "        text-align: right;\n",
       "    }\n",
       "</style>\n",
       "<table border=\"1\" class=\"dataframe\">\n",
       "  <thead>\n",
       "    <tr style=\"text-align: right;\">\n",
       "      <th></th>\n",
       "      <th>Id</th>\n",
       "      <th>Name_Year</th>\n",
       "      <th>Genre</th>\n",
       "      <th>Year</th>\n",
       "      <th>Name</th>\n",
       "      <th>Genre2</th>\n",
       "    </tr>\n",
       "  </thead>\n",
       "  <tbody>\n",
       "    <tr>\n",
       "      <th>0</th>\n",
       "      <td>1</td>\n",
       "      <td>Toy Story (1995)</td>\n",
       "      <td>Animation</td>\n",
       "      <td>1995</td>\n",
       "      <td>Toy Story</td>\n",
       "      <td>Animation</td>\n",
       "    </tr>\n",
       "    <tr>\n",
       "      <th>1</th>\n",
       "      <td>2</td>\n",
       "      <td>Jumanji (1995)</td>\n",
       "      <td>Adventure</td>\n",
       "      <td>1995</td>\n",
       "      <td>Jumanji</td>\n",
       "      <td>Adventure</td>\n",
       "    </tr>\n",
       "    <tr>\n",
       "      <th>2</th>\n",
       "      <td>3</td>\n",
       "      <td>Grumpier Old Men (1995)</td>\n",
       "      <td>Comedy</td>\n",
       "      <td>1995</td>\n",
       "      <td>Grumpier Old Men</td>\n",
       "      <td>Comedy</td>\n",
       "    </tr>\n",
       "    <tr>\n",
       "      <th>3</th>\n",
       "      <td>4</td>\n",
       "      <td>Waiting to Exhale (1995)</td>\n",
       "      <td>Comedy</td>\n",
       "      <td>1995</td>\n",
       "      <td>Waiting to Exhale</td>\n",
       "      <td>Comedy</td>\n",
       "    </tr>\n",
       "    <tr>\n",
       "      <th>4</th>\n",
       "      <td>5</td>\n",
       "      <td>Father of the Bride Part II (1995)</td>\n",
       "      <td>Comedy</td>\n",
       "      <td>1995</td>\n",
       "      <td>Father of the Bride Part II</td>\n",
       "      <td>Comedy</td>\n",
       "    </tr>\n",
       "    <tr>\n",
       "      <th>...</th>\n",
       "      <td>...</td>\n",
       "      <td>...</td>\n",
       "      <td>...</td>\n",
       "      <td>...</td>\n",
       "      <td>...</td>\n",
       "      <td>...</td>\n",
       "    </tr>\n",
       "    <tr>\n",
       "      <th>3878</th>\n",
       "      <td>3948</td>\n",
       "      <td>Meet the Parents (2000)</td>\n",
       "      <td>Comedy</td>\n",
       "      <td>2000</td>\n",
       "      <td>Meet the Parents</td>\n",
       "      <td>Comedy</td>\n",
       "    </tr>\n",
       "    <tr>\n",
       "      <th>3879</th>\n",
       "      <td>3949</td>\n",
       "      <td>Requiem for a Dream (2000)</td>\n",
       "      <td>Drama</td>\n",
       "      <td>2000</td>\n",
       "      <td>Requiem for a Dream</td>\n",
       "      <td>Drama</td>\n",
       "    </tr>\n",
       "    <tr>\n",
       "      <th>3880</th>\n",
       "      <td>3950</td>\n",
       "      <td>Tigerland (2000)</td>\n",
       "      <td>Drama</td>\n",
       "      <td>2000</td>\n",
       "      <td>Tigerland</td>\n",
       "      <td>Drama</td>\n",
       "    </tr>\n",
       "    <tr>\n",
       "      <th>3881</th>\n",
       "      <td>3951</td>\n",
       "      <td>Two Family House (2000)</td>\n",
       "      <td>Drama</td>\n",
       "      <td>2000</td>\n",
       "      <td>Two Family House</td>\n",
       "      <td>Drama</td>\n",
       "    </tr>\n",
       "    <tr>\n",
       "      <th>3882</th>\n",
       "      <td>3952</td>\n",
       "      <td>Contender, The (2000)</td>\n",
       "      <td>Drama</td>\n",
       "      <td>2000</td>\n",
       "      <td>Contender, The</td>\n",
       "      <td>Drama</td>\n",
       "    </tr>\n",
       "  </tbody>\n",
       "</table>\n",
       "<p>3883 rows × 6 columns</p>\n",
       "</div>"
      ],
      "text/plain": [
       "        Id                           Name_Year      Genre  Year  \\\n",
       "0        1                    Toy Story (1995)  Animation  1995   \n",
       "1        2                      Jumanji (1995)  Adventure  1995   \n",
       "2        3             Grumpier Old Men (1995)     Comedy  1995   \n",
       "3        4            Waiting to Exhale (1995)     Comedy  1995   \n",
       "4        5  Father of the Bride Part II (1995)     Comedy  1995   \n",
       "...    ...                                 ...        ...   ...   \n",
       "3878  3948             Meet the Parents (2000)     Comedy  2000   \n",
       "3879  3949          Requiem for a Dream (2000)      Drama  2000   \n",
       "3880  3950                    Tigerland (2000)      Drama  2000   \n",
       "3881  3951             Two Family House (2000)      Drama  2000   \n",
       "3882  3952               Contender, The (2000)      Drama  2000   \n",
       "\n",
       "                             Name     Genre2  \n",
       "0                       Toy Story  Animation  \n",
       "1                         Jumanji  Adventure  \n",
       "2                Grumpier Old Men     Comedy  \n",
       "3               Waiting to Exhale     Comedy  \n",
       "4     Father of the Bride Part II     Comedy  \n",
       "...                           ...        ...  \n",
       "3878             Meet the Parents     Comedy  \n",
       "3879          Requiem for a Dream      Drama  \n",
       "3880                    Tigerland      Drama  \n",
       "3881             Two Family House      Drama  \n",
       "3882               Contender, The      Drama  \n",
       "\n",
       "[3883 rows x 6 columns]"
      ]
     },
     "execution_count": 73,
     "metadata": {},
     "output_type": "execute_result"
    }
   ],
   "source": [
    "movies_raw"
   ]
  },
  {
   "cell_type": "markdown",
   "id": "06c26558-10cb-4820-badf-7c871d235c61",
   "metadata": {},
   "source": [
    "* Finalment, reordenem les columnes amb la funció **reindex()** de Pandas DataFrame\n",
    "* Ja tenim un Pandas DataFrame reordenat que es diu **\"movies_OK\"**"
   ]
  },
  {
   "cell_type": "code",
   "execution_count": 82,
   "id": "f58a3b49-75e3-4fa7-ad88-fd483c0065ef",
   "metadata": {},
   "outputs": [
    {
     "name": "stdout",
     "output_type": "stream",
     "text": [
      "\n",
      "\"Ja tenim un Pandas DataFrame reordenat que es diu \"movies_OK\" :\n",
      "\n"
     ]
    },
    {
     "data": {
      "text/html": [
       "<div>\n",
       "<style scoped>\n",
       "    .dataframe tbody tr th:only-of-type {\n",
       "        vertical-align: middle;\n",
       "    }\n",
       "\n",
       "    .dataframe tbody tr th {\n",
       "        vertical-align: top;\n",
       "    }\n",
       "\n",
       "    .dataframe thead th {\n",
       "        text-align: right;\n",
       "    }\n",
       "</style>\n",
       "<table border=\"1\" class=\"dataframe\">\n",
       "  <thead>\n",
       "    <tr style=\"text-align: right;\">\n",
       "      <th></th>\n",
       "      <th>Id</th>\n",
       "      <th>Name</th>\n",
       "      <th>Year</th>\n",
       "      <th>Genre</th>\n",
       "    </tr>\n",
       "  </thead>\n",
       "  <tbody>\n",
       "    <tr>\n",
       "      <th>0</th>\n",
       "      <td>1</td>\n",
       "      <td>Toy Story</td>\n",
       "      <td>1995</td>\n",
       "      <td>Animation</td>\n",
       "    </tr>\n",
       "    <tr>\n",
       "      <th>1</th>\n",
       "      <td>2</td>\n",
       "      <td>Jumanji</td>\n",
       "      <td>1995</td>\n",
       "      <td>Adventure</td>\n",
       "    </tr>\n",
       "    <tr>\n",
       "      <th>2</th>\n",
       "      <td>3</td>\n",
       "      <td>Grumpier Old Men</td>\n",
       "      <td>1995</td>\n",
       "      <td>Comedy</td>\n",
       "    </tr>\n",
       "    <tr>\n",
       "      <th>3</th>\n",
       "      <td>4</td>\n",
       "      <td>Waiting to Exhale</td>\n",
       "      <td>1995</td>\n",
       "      <td>Comedy</td>\n",
       "    </tr>\n",
       "    <tr>\n",
       "      <th>4</th>\n",
       "      <td>5</td>\n",
       "      <td>Father of the Bride Part II</td>\n",
       "      <td>1995</td>\n",
       "      <td>Comedy</td>\n",
       "    </tr>\n",
       "    <tr>\n",
       "      <th>...</th>\n",
       "      <td>...</td>\n",
       "      <td>...</td>\n",
       "      <td>...</td>\n",
       "      <td>...</td>\n",
       "    </tr>\n",
       "    <tr>\n",
       "      <th>3878</th>\n",
       "      <td>3948</td>\n",
       "      <td>Meet the Parents</td>\n",
       "      <td>2000</td>\n",
       "      <td>Comedy</td>\n",
       "    </tr>\n",
       "    <tr>\n",
       "      <th>3879</th>\n",
       "      <td>3949</td>\n",
       "      <td>Requiem for a Dream</td>\n",
       "      <td>2000</td>\n",
       "      <td>Drama</td>\n",
       "    </tr>\n",
       "    <tr>\n",
       "      <th>3880</th>\n",
       "      <td>3950</td>\n",
       "      <td>Tigerland</td>\n",
       "      <td>2000</td>\n",
       "      <td>Drama</td>\n",
       "    </tr>\n",
       "    <tr>\n",
       "      <th>3881</th>\n",
       "      <td>3951</td>\n",
       "      <td>Two Family House</td>\n",
       "      <td>2000</td>\n",
       "      <td>Drama</td>\n",
       "    </tr>\n",
       "    <tr>\n",
       "      <th>3882</th>\n",
       "      <td>3952</td>\n",
       "      <td>Contender, The</td>\n",
       "      <td>2000</td>\n",
       "      <td>Drama</td>\n",
       "    </tr>\n",
       "  </tbody>\n",
       "</table>\n",
       "<p>3883 rows × 4 columns</p>\n",
       "</div>"
      ],
      "text/plain": [
       "        Id                         Name  Year      Genre\n",
       "0        1                    Toy Story  1995  Animation\n",
       "1        2                      Jumanji  1995  Adventure\n",
       "2        3             Grumpier Old Men  1995     Comedy\n",
       "3        4            Waiting to Exhale  1995     Comedy\n",
       "4        5  Father of the Bride Part II  1995     Comedy\n",
       "...    ...                          ...   ...        ...\n",
       "3878  3948             Meet the Parents  2000     Comedy\n",
       "3879  3949          Requiem for a Dream  2000      Drama\n",
       "3880  3950                    Tigerland  2000      Drama\n",
       "3881  3951             Two Family House  2000      Drama\n",
       "3882  3952               Contender, The  2000      Drama\n",
       "\n",
       "[3883 rows x 4 columns]"
      ]
     },
     "execution_count": 82,
     "metadata": {},
     "output_type": "execute_result"
    }
   ],
   "source": [
    "movies_OK = movies_raw.reindex(columns = ['Id', 'Name', 'Year', 'Genre'])\n",
    "print('\\n\"Ja tenim un Pandas DataFrame reordenat que es diu \"movies_OK\" :\\n')\n",
    "\n",
    "movies_OK"
   ]
  },
  {
   "cell_type": "code",
   "execution_count": 84,
   "id": "c5d1ccb4-42c2-4f29-a84d-eb7ca1e172ba",
   "metadata": {
    "tags": []
   },
   "outputs": [
    {
     "name": "stdout",
     "output_type": "stream",
     "text": [
      "<class 'pandas.core.frame.DataFrame'>\n",
      "RangeIndex: 3883 entries, 0 to 3882\n",
      "Data columns (total 4 columns):\n",
      " #   Column  Non-Null Count  Dtype \n",
      "---  ------  --------------  ----- \n",
      " 0   Id      3883 non-null   int64 \n",
      " 1   Name    3883 non-null   object\n",
      " 2   Year    3883 non-null   int32 \n",
      " 3   Genre   3883 non-null   object\n",
      "dtypes: int32(1), int64(1), object(2)\n",
      "memory usage: 106.3+ KB\n"
     ]
    }
   ],
   "source": [
    "movies_OK.info()"
   ]
  },
  {
   "cell_type": "code",
   "execution_count": 89,
   "id": "d2d7454f-2c25-4755-b411-25a007cbfb7d",
   "metadata": {},
   "outputs": [
    {
     "data": {
      "text/plain": [
       "Id       3883\n",
       "Name     3841\n",
       "Year       81\n",
       "Genre      18\n",
       "dtype: int64"
      ]
     },
     "execution_count": 89,
     "metadata": {},
     "output_type": "execute_result"
    }
   ],
   "source": [
    "movies_OK.nunique()"
   ]
  },
  {
   "cell_type": "code",
   "execution_count": 83,
   "id": "c7c3fba9-6f34-449d-ae0a-f6d6cf459149",
   "metadata": {
    "tags": []
   },
   "outputs": [
    {
     "data": {
      "text/plain": [
       "array(['Animation', 'Adventure', 'Comedy', 'Action', 'Drama', 'Thriller',\n",
       "       'Crime', 'Romance', \"Children's\", 'Documentary', 'Sci-Fi',\n",
       "       'Horror', 'Western', 'Mystery', 'Film-Noir', 'War', 'Fantasy',\n",
       "       'Musical'], dtype=object)"
      ]
     },
     "execution_count": 83,
     "metadata": {},
     "output_type": "execute_result"
    }
   ],
   "source": [
    "movies_OK['Genre'].unique()"
   ]
  },
  {
   "cell_type": "markdown",
   "id": "06948024-034f-431f-bac2-9e38d87fd287",
   "metadata": {},
   "source": [
    "**Objectius complerts :**\n",
    "* El **resultat final** es un dataframe amb les variables de **nom de la pel·lícula, any i genere**\n",
    "\n",
    "* També ens hem quedat amb **un sol gènere per pel·lícula, amb un total de 18 gèneres** en cop de cents de combinacions\n",
    "\n",
    "* Podem exportar-lo com a .csv per a usos futurs \n"
   ]
  },
  {
   "cell_type": "code",
   "execution_count": null,
   "id": "518889ec-6861-4490-a9d4-932ecafef3c2",
   "metadata": {},
   "outputs": [],
   "source": [
    "# exportar a csv para cargar desde el entorno :\n",
    "movies_OK.to_csv(movies_OK, sep='\\t', encoding='utf-8')\n",
    "\n",
    "# Alternativa de exportar a una ruta : df.to_csv (r'C:\\Users\\Cristina\\Folder\\dataframe.csv', index = None, header=True) "
   ]
  },
  {
   "cell_type": "markdown",
   "id": "7539e83a-7362-4f17-8994-2fedb5288453",
   "metadata": {
    "tags": []
   },
   "source": [
    "## EXERCICI 3 : \n",
    "Mostra la teva creativitat i mostra què creus rellevant del Dataset de l'exercici anterior. \n",
    "\n",
    "Fes una o dues representacions gràfiques i justifica la teva elecció."
   ]
  },
  {
   "cell_type": "markdown",
   "id": "cf7c71b4-c73a-46b7-aaff-c4b5e424ef8d",
   "metadata": {},
   "source": [
    "* Treballarem amb el dataset pulit : **\"movies_OK\"**"
   ]
  },
  {
   "cell_type": "code",
   "execution_count": 164,
   "id": "6946ed58-f7a2-4b8a-97a6-7342a7069467",
   "metadata": {},
   "outputs": [],
   "source": [
    "import seaborn as sns\n",
    "import numpy as np\n",
    "import pandas as pd\n",
    "import matplotlib.pyplot as plt"
   ]
  },
  {
   "cell_type": "code",
   "execution_count": 91,
   "id": "4576257c-e3c6-4cb2-8231-02afdd88f75d",
   "metadata": {},
   "outputs": [
    {
     "data": {
      "text/html": [
       "<div>\n",
       "<style scoped>\n",
       "    .dataframe tbody tr th:only-of-type {\n",
       "        vertical-align: middle;\n",
       "    }\n",
       "\n",
       "    .dataframe tbody tr th {\n",
       "        vertical-align: top;\n",
       "    }\n",
       "\n",
       "    .dataframe thead th {\n",
       "        text-align: right;\n",
       "    }\n",
       "</style>\n",
       "<table border=\"1\" class=\"dataframe\">\n",
       "  <thead>\n",
       "    <tr style=\"text-align: right;\">\n",
       "      <th></th>\n",
       "      <th>Id</th>\n",
       "      <th>Name</th>\n",
       "      <th>Year</th>\n",
       "      <th>Genre</th>\n",
       "    </tr>\n",
       "  </thead>\n",
       "  <tbody>\n",
       "    <tr>\n",
       "      <th>0</th>\n",
       "      <td>1</td>\n",
       "      <td>Toy Story</td>\n",
       "      <td>1995</td>\n",
       "      <td>Animation</td>\n",
       "    </tr>\n",
       "    <tr>\n",
       "      <th>1</th>\n",
       "      <td>2</td>\n",
       "      <td>Jumanji</td>\n",
       "      <td>1995</td>\n",
       "      <td>Adventure</td>\n",
       "    </tr>\n",
       "    <tr>\n",
       "      <th>2</th>\n",
       "      <td>3</td>\n",
       "      <td>Grumpier Old Men</td>\n",
       "      <td>1995</td>\n",
       "      <td>Comedy</td>\n",
       "    </tr>\n",
       "    <tr>\n",
       "      <th>3</th>\n",
       "      <td>4</td>\n",
       "      <td>Waiting to Exhale</td>\n",
       "      <td>1995</td>\n",
       "      <td>Comedy</td>\n",
       "    </tr>\n",
       "    <tr>\n",
       "      <th>4</th>\n",
       "      <td>5</td>\n",
       "      <td>Father of the Bride Part II</td>\n",
       "      <td>1995</td>\n",
       "      <td>Comedy</td>\n",
       "    </tr>\n",
       "    <tr>\n",
       "      <th>...</th>\n",
       "      <td>...</td>\n",
       "      <td>...</td>\n",
       "      <td>...</td>\n",
       "      <td>...</td>\n",
       "    </tr>\n",
       "    <tr>\n",
       "      <th>3878</th>\n",
       "      <td>3948</td>\n",
       "      <td>Meet the Parents</td>\n",
       "      <td>2000</td>\n",
       "      <td>Comedy</td>\n",
       "    </tr>\n",
       "    <tr>\n",
       "      <th>3879</th>\n",
       "      <td>3949</td>\n",
       "      <td>Requiem for a Dream</td>\n",
       "      <td>2000</td>\n",
       "      <td>Drama</td>\n",
       "    </tr>\n",
       "    <tr>\n",
       "      <th>3880</th>\n",
       "      <td>3950</td>\n",
       "      <td>Tigerland</td>\n",
       "      <td>2000</td>\n",
       "      <td>Drama</td>\n",
       "    </tr>\n",
       "    <tr>\n",
       "      <th>3881</th>\n",
       "      <td>3951</td>\n",
       "      <td>Two Family House</td>\n",
       "      <td>2000</td>\n",
       "      <td>Drama</td>\n",
       "    </tr>\n",
       "    <tr>\n",
       "      <th>3882</th>\n",
       "      <td>3952</td>\n",
       "      <td>Contender, The</td>\n",
       "      <td>2000</td>\n",
       "      <td>Drama</td>\n",
       "    </tr>\n",
       "  </tbody>\n",
       "</table>\n",
       "<p>3883 rows × 4 columns</p>\n",
       "</div>"
      ],
      "text/plain": [
       "        Id                         Name  Year      Genre\n",
       "0        1                    Toy Story  1995  Animation\n",
       "1        2                      Jumanji  1995  Adventure\n",
       "2        3             Grumpier Old Men  1995     Comedy\n",
       "3        4            Waiting to Exhale  1995     Comedy\n",
       "4        5  Father of the Bride Part II  1995     Comedy\n",
       "...    ...                          ...   ...        ...\n",
       "3878  3948             Meet the Parents  2000     Comedy\n",
       "3879  3949          Requiem for a Dream  2000      Drama\n",
       "3880  3950                    Tigerland  2000      Drama\n",
       "3881  3951             Two Family House  2000      Drama\n",
       "3882  3952               Contender, The  2000      Drama\n",
       "\n",
       "[3883 rows x 4 columns]"
      ]
     },
     "execution_count": 91,
     "metadata": {},
     "output_type": "execute_result"
    }
   ],
   "source": [
    "movies_OK"
   ]
  },
  {
   "cell_type": "code",
   "execution_count": 162,
   "id": "f03c3216-6afa-4007-b9a2-fd6328e0f5de",
   "metadata": {},
   "outputs": [
    {
     "data": {
      "text/plain": [
       "Year  Genre    \n",
       "1919  Action        1\n",
       "      Adventure     1\n",
       "      Comedy        1\n",
       "1920  Comedy        2\n",
       "1921  Action        1\n",
       "                   ..\n",
       "2000  Drama        36\n",
       "      Horror        4\n",
       "      Romance       1\n",
       "      Sci-Fi        2\n",
       "      Thriller      6\n",
       "Name: Genre, Length: 623, dtype: int64"
      ]
     },
     "execution_count": 162,
     "metadata": {},
     "output_type": "execute_result"
    }
   ],
   "source": [
    "data=movies_OK.groupby(['Year', 'Genre'])['Genre'].count()\n",
    "data"
   ]
  },
  {
   "cell_type": "code",
   "execution_count": 171,
   "id": "5adf3aef-cdc6-4202-a6fb-2420e4344b34",
   "metadata": {},
   "outputs": [
    {
     "data": {
      "image/png": "[encoded data removed]",
      "text/plain": [
       "<Figure size 985.875x700 with 1 Axes>"
      ]
     },
     "metadata": {},
     "output_type": "display_data"
    }
   ],
   "source": [
    "sns.displot(data, x=\"Year\", hue=\"Genre\", multiple=\"stack\", height=7, aspect=1.2)\n",
    "\n",
    "plt.title('Evolució dels gèneres per dècades', fontsize=14)\n",
    "plt.xlabel('Temps (sègle XX)', fontsize=12)\n",
    "plt.ylabel('Films', fontsize=12)\n",
    "\n",
    "plt.show()"
   ]
  },
  {
   "cell_type": "markdown",
   "id": "fde80359-80aa-4293-bed1-53376de189f1",
   "metadata": {},
   "source": [
    "* **Del gràfic anterior podem treure les següents conclusions:**\n",
    "    - Mai com desde la meitat dels anys '90 fins al 2000 no hi ha hagut tantes pel·licules. Observem que el mercat es dispara (podriem dir gairebé que n'hi a mólt de tot) : es l'època on més equilibri hi ha entre els diferents gènres, excepte per les categories *fantasia, western, misteri i musical*, on n'hi han menys producció.\n",
    "    - Podriem pensar que amb aixó, la gent ha esdevingut mòlt més sedentària, i també els infants, per qui s'ha disparat l'oferta.\n",
    "    - Les categories *drama* i *comèdia* son les que més temps han aguantat des del principi del cinèma i han sigut sent els genres mès prolífers : ocupan una plaça important encara. La diferència es que des de la meitat dels anys '30 i especialment els '60, el cinema s'ha diversificat mólt, sobretot amb cine de negre, cine d'acció, d'aventura i películes per a nens, que apareix als anys 30' i '40.\n",
    "    - Als anys '50 apareix la ciència ficciò i els thrillers ; als '60, el cine de terror.\n",
    "    - Des dels '90 el cine negre, l'animació i el cinema infantil han estat en auge i més recentment, del 1990al 2000, també han augmentat gñeneres com el romance, els documentals, els thrillers i el cine policial. \n",
    "    - Els que més han disminuït son els musicals i el cine de fantasia, gairebé desapareguts.\n",
    "    - Per el dibuixos animats, les millores èpoques han sigut els anys '40 i des del 1985 aprox, endavant."
   ]
  },
  {
   "cell_type": "code",
   "execution_count": 172,
   "id": "26cd04fd-1a61-419e-b50b-69bc004a7dd1",
   "metadata": {},
   "outputs": [
    {
     "data": {
      "image/png": "[encoded data removed]",
      "text/plain": [
       "<Figure size 1000x500 with 1 Axes>"
      ]
     },
     "metadata": {},
     "output_type": "display_data"
    }
   ],
   "source": [
    "data=movies_OK.groupby(['Genre'])['Genre'].count()\n",
    "\n",
    "data.sort_values(ascending=True).plot(kind=\"bar\", figsize = (10,5))\n",
    "plt.legend(title=\"El cinema, per gèneres\", loc=\"upper left\", fontsize=8) \n",
    "\n",
    "plt.show()"
   ]
  },
  {
   "cell_type": "markdown",
   "id": "90ccc679-f3b7-440e-b982-f35f6370535c",
   "metadata": {},
   "source": [
    "* **Del gràfic anterior i del següent podem dir:**\n",
    "    - Les dues categories més productives han sigut la comedia i el drama, que tenen que veure amb les ganes de riure, però per una altra banda, amb la preocupació, l'angustia i la solució de diversos problemes.\n",
    "    - Els gèneres d'acció i el cine de por, també son una part important del mercat.\n",
    "    - Els altres gèneres han sigut minoritaris a la historia del cine.\n"
   ]
  },
  {
   "cell_type": "code",
   "execution_count": 176,
   "id": "32991819-db8f-45dc-b2eb-97e8948daebd",
   "metadata": {},
   "outputs": [
    {
     "data": {
      "image/png": "[encoded data removed]",
      "text/plain": [
       "<Figure size 800x800 with 1 Axes>"
      ]
     },
     "metadata": {},
     "output_type": "display_data"
    }
   ],
   "source": [
    "data.sort_values(ascending=True).plot(kind='pie', figsize=(8,8), autopct='%1.1f%%', fontsize=10, \n",
    "                                           colors=colors, wedgeprops={\"linewidth\" : 0.5, \"edgecolor\" : \"white\"})\n",
    "plt.title('Representació dels gènres de pelicules en %', fontsize=14)\n",
    "plt.ylabel([])  \n",
    "\n",
    "# Exportar el gràfic:\n",
    "plt.savefig('Sprint4_1.png', dpi=150, transparent=True)  \n",
    "\n",
    "plt.show()"
   ]
  },
  {
   "cell_type": "markdown",
   "id": "e0976229-59d8-4d44-bceb-f8ac995a53c7",
   "metadata": {},
   "source": [
    "* **Del gràfic de percentatges veiem:**\n",
    "    - Les dues categories més productives han sigut la comedia i el drama, que juntes represetnten més de la meitat del cinema del segle XX.\n",
    "    - Aquestes dues més acció suman el 2/3 del que es produieix i si hi sumem el cine de por ja entre els quatre, és més de 3/4 del mercat.\n",
    "    - Els altres gèneres han sigut minoritaris a la historia del cine.\n"
   ]
  }
 ],
 "metadata": {
  "kernelspec": {
   "display_name": "Python 3 (ipykernel)",
   "language": "python",
   "name": "python3"
  },
  "language_info": {
   "codemirror_mode": {
    "name": "ipython",
    "version": 3
   },
   "file_extension": ".py",
   "mimetype": "text/x-python",
   "name": "python",
   "nbconvert_exporter": "python",
   "pygments_lexer": "ipython3",
   "version": "3.9.13"
  }
 },
 "nbformat": 4,
 "nbformat_minor": 5
}
